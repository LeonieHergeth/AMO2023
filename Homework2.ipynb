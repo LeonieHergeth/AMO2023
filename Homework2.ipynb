{
 "cells": [
  {
   "attachments": {},
   "cell_type": "markdown",
   "metadata": {},
   "source": [
    "# Homework 2"
   ]
  },
  {
   "cell_type": "code",
   "execution_count": 1,
   "metadata": {},
   "outputs": [
    {
     "name": "stderr",
     "output_type": "stream",
     "text": [
      "\u001b[32m\u001b[1m  Activating\u001b[22m\u001b[39m project at `c:\\Users\\Leonie Hergeth\\Documents\\GitHub\\AMO_2023\\LHe`\n"
     ]
    },
    {
     "name": "stderr",
     "output_type": "stream",
     "text": [
      "\u001b[32m\u001b[1mPrecompiling\u001b[22m\u001b[39m project..."
     ]
    },
    {
     "name": "stderr",
     "output_type": "stream",
     "text": [
      "\n"
     ]
    },
    {
     "name": "stderr",
     "output_type": "stream",
     "text": [
      "\u001b[91m  ✗ \u001b[39mGurobi\n"
     ]
    },
    {
     "name": "stderr",
     "output_type": "stream",
     "text": [
      "  0 dependencies successfully precompiled in 5 seconds. 198 already precompiled.\n",
      "  \u001b[91m1\u001b[39m dependency errored. To see a full report either run `import Pkg; Pkg.precompile()` or load the package\n"
     ]
    }
   ],
   "source": [
    "using Pkg; # The 'Pkg' package is used to install and load other packages\n",
    "Pkg.activate(\".\"); Pkg.instantiate(); # The AMO environment is activated and instantiated\n",
    "\n",
    "\n",
    "#Pkg.status() 'gibt Status zurück"
   ]
  },
  {
   "cell_type": "code",
   "execution_count": 2,
   "metadata": {},
   "outputs": [],
   "source": [
    "using DataStructures # for SortedDict\n",
    "using DataFrames\n",
    "using IterTools # for product()\n",
    "using Plots # for plotting, import and first plot might take a while due to compilation\n",
    "using JuMP, HiGHS"
   ]
  },
  {
   "cell_type": "markdown",
   "metadata": {},
   "source": [
    "At first the counter for the iteration is set and the first fixed x is set to its greatest limit. Also arrays are defined to save the values of the dual model.\n",
    "\n",
    "To ensure that the computation is stopped after a while the limit of iterations is set to 10. For greater models it must be larger or a binary must be used which indicates whether the deviation is small enough or not. In each iteration the submodel is defined and solved. The duals are saved in the arrays and used in the master problem. If the objective value of the sub model is equal to the optimal alpha value of the master model, an optimal solution is found and the algorithm stops.\n",
    "\n",
    "The solution is found after 4 iterations and is printed in the last line."
   ]
  },
  {
   "cell_type": "code",
   "execution_count": 27,
   "metadata": {},
   "outputs": [
    {
     "name": "stdout",
     "output_type": "stream",
     "text": [
      "Running HiGHS 1.6.0: Copyright (c) 2023 HiGHS under MIT licence terms\n",
      "Presolving model\n",
      "0 rows, 0 cols, 0 nonzeros\n",
      "0 rows, 0 cols, 0 nonzeros\n",
      "Presolve : Reductions: rows 0(-4); columns 0(-1); elements 0(-4) - Reduced to empty\n",
      "Solving the original LP from the solution after postsolve\n",
      "Model   status      : Optimal\n",
      "Objective value     : -9.5000000000e+00\n",
      "HiGHS run time      :          0.00\n",
      "sub model obj value -9.5\n",
      "Running HiGHS 1.6.0: Copyright (c) 2023 HiGHS under MIT licence terms\n",
      "Presolving model\n",
      "0 rows, 1 cols, 0 nonzeros\n",
      "0 rows, 0 cols, 0 nonzeros\n",
      "Presolve : Reductions: rows 0(-1); columns 0(-2); elements 0(-2) - Reduced to empty\n",
      "Solving the original LP from the solution after postsolve\n",
      "Model   status      : Optimal\n",
      "Objective value     : -1.7500000000e+01\n",
      "HiGHS run time      :          0.00\n",
      "master obj Value -17.5\n",
      "value of fixed x 16; value of new x 0.0\n",
      "iteration step end\n",
      "Running HiGHS 1.6.0: Copyright (c) 2023 HiGHS under MIT licence terms\n",
      "Presolving model\n",
      "0 rows, 0 cols, 0 nonzeros\n",
      "0 rows, 0 cols, 0 nonzeros\n",
      "Presolve : Reductions: rows 0(-4); columns 0(-1); elements 0(-4) - Reduced to empty\n",
      "Solving the original LP from the solution after postsolve\n",
      "Model   status      : Optimal\n",
      "Objective value     : -5.0000000000e+00\n",
      "HiGHS run time      :          0.00\n",
      "sub model obj value -5.0\n",
      "Running HiGHS 1.6.0: Copyright (c) 2023 HiGHS under MIT licence terms\n",
      "Presolving model\n",
      "2 rows, 2 cols, 4 nonzeros\n",
      "2 rows, 2 cols, 4 nonzeros\n",
      "Presolve : Reductions: rows 2(-0); columns 2(-0); elements 4(-0) - Not reduced\n",
      "Problem not reduced by presolve: solving the LP\n",
      "Using EKK dual simplex solver - serial\n",
      "  Iteration        Objective     Infeasibilities num(sum)\n",
      "          0    -1.0000000000e+03 Ph1: 2(2000); Du: 1(1) 0s\n",
      "          2    -1.5416666667e+01 Pr: 0(0) 0s\n",
      "Model   status      : Optimal\n",
      "Simplex   iterations: 2\n",
      "Objective value     : -1.5416666667e+01\n",
      "HiGHS run time      :          0.00\n",
      "master obj Value -15.416666666666668\n",
      "value of fixed x 0.0; value of new x 8.333333333333334\n",
      "iteration step end\n",
      "Running HiGHS 1.6.0: Copyright (c) 2023 HiGHS under MIT licence terms\n",
      "Presolving model\n",
      "0 rows, 0 cols, 0 nonzeros\n",
      "0 rows, 0 cols, 0 nonzeros\n",
      "Presolve : Reductions: rows 0(-4); columns 0(-1); elements 0(-4) - Reduced to empty\n",
      "Solving the original LP from the solution after postsolve\n",
      "Model   status      : Optimal\n",
      "Objective value     : -1.1666666667e+01\n",
      "HiGHS run time      :          0.00\n",
      "sub model obj value -11.666666666666668\n",
      "Running HiGHS 1.6.0: Copyright (c) 2023 HiGHS under MIT licence terms\n",
      "Presolving model\n",
      "3 rows, 2 cols, 6 nonzeros\n",
      "3 rows, 2 cols, 6 nonzeros\n",
      "Presolve : Reductions: rows 3(-0); columns 2(-0); elements 6(-0) - Not reduced\n",
      "Problem not reduced by presolve: solving the LP\n",
      "Using EKK dual simplex solver - serial\n",
      "  Iteration        Objective     Infeasibilities num(sum)\n",
      "          0    -1.0000000000e+03 Ph1: 3(3000); Du: 1(1) 0s\n",
      "          3    -1.5000000000e+01 Pr: 0(0) 0s\n",
      "Model   status      : Optimal\n",
      "Simplex   iterations: 3\n",
      "Objective value     : -1.5000000000e+01\n",
      "HiGHS run time      :          0.00\n",
      "master obj Value -15.0\n",
      "value of fixed x 8.333333333333334; value of new x 10.0\n",
      "iteration step end\n",
      "Running HiGHS 1.6.0: Copyright (c) 2023 HiGHS under MIT licence terms\n",
      "Presolving model\n",
      "0 rows, 0 cols, 0 nonzeros\n",
      "0 rows, 0 cols, 0 nonzeros\n",
      "Presolve : Reductions: rows 0(-4); columns 0(-1); elements 0(-4) - Reduced to empty\n",
      "Solving the original LP from the solution after postsolve\n",
      "Model   status      : Optimal\n",
      "Objective value     : -1.2500000000e+01\n",
      "HiGHS run time      :          0.00\n",
      "sub model obj value -12.5\n",
      "Running HiGHS 1.6.0: Copyright (c) 2023 HiGHS under MIT licence terms\n",
      "Presolving model\n",
      "4 rows, 2 cols, 8 nonzeros\n",
      "3 rows, 2 cols, 6 nonzeros\n",
      "3 rows, 2 cols, 6 nonzeros\n",
      "Presolve : Reductions: rows 3(-1); columns 2(-0); elements 6(-2)\n",
      "Solving the presolved LP\n",
      "Using EKK dual simplex solver - serial\n",
      "  Iteration        Objective     Infeasibilities num(sum)\n",
      "          0    -1.0000000000e+03 Ph1: 3(3000); Du: 1(1) 0s\n",
      "          3    -1.5000000000e+01 Pr: 0(0) 0s\n",
      "Solving the original LP from the solution after postsolve\n",
      "Model   status      : Optimal\n",
      "Simplex   iterations: 3\n",
      "Objective value     : -1.5000000000e+01\n",
      "HiGHS run time      :          0.00\n",
      "master obj Value -15.0\n",
      "values are equal -> no further iteration\n",
      "value of x = 10.0; value of alpha = -12.5; master obj value = -15.0; value of y = 12.5; sub model obj Value = -12.5\n",
      "4 iteration(s) needed\n"
     ]
    }
   ],
   "source": [
    "k = 1\n",
    "x_fixed = 16\n",
    "\n",
    "dual1 = [i for i in 1:10]\n",
    "dual2 = [i for i in 1:10]\n",
    "dual3 = [i for i in 1:10]\n",
    "dual4 = [i for i in 1:10]\n",
    "\n",
    "while k < 10 \n",
    "    subModel = Model(HiGHS.Optimizer)\n",
    "    @variable(subModel, y >=0) \n",
    "\n",
    "    @constraint(subModel,c1, -y >= -5 - x_fixed) \n",
    "    @constraint(subModel,c2, -y >= -15/2 - x_fixed/2) \n",
    "    @constraint(subModel,c3, -y >= -35/2 + x_fixed/2) \n",
    "    @constraint(subModel,c4, y >= -10 + x_fixed)\n",
    "\n",
    "    @objective(subModel, Min, -y)\n",
    "\n",
    "    optimize!(subModel)\n",
    "    dual1[k] = dual(c1)\n",
    "    dual2[k] = dual(c2)\n",
    "    dual3[k] = dual(c3)\n",
    "    dual4[k] = dual(c4)\n",
    "\n",
    "    println(\"sub model obj value \" ,objective_value(subModel))\n",
    "\n",
    "    masterModel = Model(HiGHS.Optimizer)\n",
    "    @variable(masterModel, 0 <= X <= 16) \n",
    "    @variable(masterModel, alpha)\n",
    "    @objective(masterModel, Min, - 0.25 * X + alpha) \n",
    "\n",
    "    for kk in 1:k\n",
    "        @constraint(masterModel, alpha >= dual1[kk] * (-5 - X) + dual2[kk] * (-X / 2 - 15 / 2) + dual3[kk] * (X/2 - 35/2) + dual4[kk] * (X - 10)) \n",
    "    end\n",
    "\n",
    "    optimize!(masterModel)\n",
    "    println(\"master obj Value \" ,objective_value(masterModel))\n",
    "\n",
    "    if abs(value(alpha) - objective_value(subModel)) < 0.0001 \n",
    "        println(\"values are equal -> no further iteration\")\n",
    "        println(\"value of x = \", value(X), \"; value of alpha = \", value(alpha), \"; master obj value = \" ,objective_value(masterModel), \"; value of y = \", value(y), \"; sub model obj Value = \" ,objective_value(subModel))\n",
    "        println(k, \" iteration(s) needed\")\n",
    "        k = 10\n",
    "    else\n",
    "        println(\"value of fixed x \" , x_fixed, \"; value of new x \", value(X))\n",
    "        x_fixed = value(X)\n",
    "        k += 1\n",
    "        println(\"iteration step end\")\n",
    "    end    \n",
    "end"
   ]
  }
 ],
 "metadata": {
  "kernelspec": {
   "display_name": "Julia 1.9.4",
   "language": "julia",
   "name": "julia-1.9"
  },
  "language_info": {
   "file_extension": ".jl",
   "mimetype": "application/julia",
   "name": "julia",
   "version": "1.9.4"
  }
 },
 "nbformat": 4,
 "nbformat_minor": 4
}

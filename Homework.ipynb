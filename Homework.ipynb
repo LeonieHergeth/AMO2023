{
 "cells": [
  {
   "attachments": {},
   "cell_type": "markdown",
   "metadata": {},
   "source": [
    "# Homework"
   ]
  },
  {
   "cell_type": "code",
   "execution_count": 1,
   "metadata": {},
   "outputs": [
    {
     "name": "stderr",
     "output_type": "stream",
     "text": [
      "\u001b[32m\u001b[1m  Activating\u001b[22m\u001b[39m project at `c:\\Users\\Leonie Hergeth\\Documents\\GitHub\\AMO_2023\\LHe`"
     ]
    },
    {
     "name": "stderr",
     "output_type": "stream",
     "text": [
      "\n"
     ]
    },
    {
     "name": "stdout",
     "output_type": "stream",
     "text": [
      "\u001b[32m\u001b[1mStatus\u001b[22m\u001b[39m `C:\\Users\\Leonie Hergeth\\Documents\\GitHub\\AMO_2023\\LHe\\Project.toml`\n"
     ]
    },
    {
     "name": "stdout",
     "output_type": "stream",
     "text": [
      "\u001b[32m⌃\u001b[39m \u001b[90m[6e4b80f9] \u001b[39mBenchmarkTools v1.3.2\n",
      "  \u001b[90m[d1d4a3ce] \u001b[39mBitFlags v0.1.8\n",
      "  \u001b[90m[523fee87] \u001b[39mCodecBzip2 v0.8.1\n",
      "  \u001b[90m[944b1d66] \u001b[39mCodecZlib v0.7.3\n",
      "  \u001b[90m[35d6a980] \u001b[39mColorSchemes v3.24.0\n",
      "  \u001b[90m[3da002f7] \u001b[39mColorTypes v0.11.4\n",
      "  \u001b[90m[c3611d14] \u001b[39mColorVectorSpace v0.10.0\n",
      "  \u001b[90m[5ae59095] \u001b[39mColors v0.12.10\n",
      "  \u001b[90m[bbf7d656] \u001b[39mCommonSubexpressions v0.3.0\n",
      "\u001b[32m⌃\u001b[39m \u001b[90m[34da2185] \u001b[39mCompat v4.10.0\n",
      "  \u001b[90m[f0e56b4a] \u001b[39mConcurrentUtilities v2.3.0\n",
      "  \u001b[90m[d38c429a] \u001b[39mContour v0.6.2\n",
      "  \u001b[90m[a8cc5b0e] \u001b[39mCrayons v4.1.1\n",
      "  \u001b[90m[9a962f9c] \u001b[39mDataAPI v1.15.0\n",
      "  \u001b[90m[a93c6f00] \u001b[39mDataFrames v1.6.1\n",
      "  \u001b[90m[864edb3b] \u001b[39mDataStructures v0.18.15\n",
      "  \u001b[90m[e2d170a0] \u001b[39mDataValueInterfaces v1.0.0\n",
      "  \u001b[90m[8bb1440f] \u001b[39mDelimitedFiles v1.9.1\n",
      "  \u001b[90m[163ba53b] \u001b[39mDiffResults v1.1.0\n",
      "  \u001b[90m[b552c78f] \u001b[39mDiffRules v1.15.1\n",
      "  \u001b[90m[ffbed154] \u001b[39mDocStringExtensions v0.9.3\n",
      "  \u001b[90m[460bff9d] \u001b[39mExceptionUnwrapping v0.1.9\n",
      "  \u001b[90m[c87230d0] \u001b[39mFFMPEG v0.4.1\n",
      "  \u001b[90m[53c48c17] \u001b[39mFixedPointNumbers v0.8.4\n",
      "  \u001b[90m[59287772] \u001b[39mFormatting v0.4.2\n",
      "  \u001b[90m[f6369f11] \u001b[39mForwardDiff v0.10.36\n",
      "  \u001b[90m[28b8d3ca] \u001b[39mGR v0.72.10\n",
      "  \u001b[90m[42e2da0e] \u001b[39mGrisu v1.0.2\n",
      "\u001b[32m⌃\u001b[39m \u001b[90m[cd3eb016] \u001b[39mHTTP v1.10.0\n",
      "  \u001b[90m[87dc4568] \u001b[39mHiGHS v1.7.5\n",
      "  \u001b[90m[842dd82b] \u001b[39mInlineStrings v1.4.0\n",
      "  \u001b[90m[41ab1584] \u001b[39mInvertedIndices v1.3.0\n",
      "  \u001b[90m[92d709cd] \u001b[39mIrrationalConstants v0.2.2\n",
      "  \u001b[90m[c8e1da08] \u001b[39mIterTools v1.8.0"
     ]
    },
    {
     "name": "stdout",
     "output_type": "stream",
     "text": [
      "\n",
      "  \u001b[90m[82899510] \u001b[39mIteratorInterfaceExtensions v1.0.0\n",
      "\u001b[32m⌃\u001b[39m \u001b[90m[1019f520] \u001b[39mJLFzf v0.1.6\n",
      "  \u001b[90m[692b3bcd] \u001b[39mJLLWrappers v1.5.0\n",
      "  \u001b[90m[682c06a0] \u001b[39mJSON v0.21.4\n",
      "\u001b[32m⌃\u001b[39m \u001b[90m[4076af6c] \u001b[39mJuMP v1.16.0\n",
      "  \u001b[90m[b964fa9f] \u001b[39mLaTeXStrings v1.3.1\n",
      "  \u001b[90m[23fbe1c1] \u001b[39mLatexify v0.16.1\n",
      "  \u001b[90m[2ab3a3ac] \u001b[39mLogExpFunctions v0.3.26\n",
      "  \u001b[90m[e6f89c97] \u001b[39mLoggingExtras v1.0.3\n",
      "  \u001b[90m[1914dd2f] \u001b[39mMacroTools v0.5.11\n",
      "\u001b[32m⌃\u001b[39m \u001b[90m[b8f27783] \u001b[39mMathOptInterface v1.22.0\n",
      "  \u001b[90m[739be429] \u001b[39mMbedTLS v1.1.9\n",
      "  \u001b[90m[442fdcdd] \u001b[39mMeasures v0.3.2\n",
      "  \u001b[90m[e1d29d7a] \u001b[39mMissings v1.1.0\n",
      "\u001b[32m⌃\u001b[39m \u001b[90m[d8a4904e] \u001b[39mMutableArithmetics v1.3.3\n",
      "  \u001b[90m[77ba4419] \u001b[39mNaNMath v1.0.2\n",
      "  \u001b[90m[4d8831e6] \u001b[39mOpenSSL v1.4.1\n",
      "  \u001b[90m[bac558e1] \u001b[39mOrderedCollections v1.6.3\n",
      "  \u001b[90m[69de0a69] \u001b[39mParsers v2.8.0\n",
      "  \u001b[90m[b98c9c47] \u001b[39mPipe v1.3.0\n",
      "  \u001b[90m[ccf2f8ad] \u001b[39mPlotThemes v3.1.0\n",
      "  \u001b[90m[995b91a9] \u001b[39mPlotUtils v1.3.5\n",
      "  \u001b[90m[91a5bcdd] \u001b[39mPlots v1.39.0\n",
      "  \u001b[90m[2dfb63ee] \u001b[39mPooledArrays v1.4.3\n",
      "  \u001b[90m[aea7be01] \u001b[39mPrecompileTools v1.2.0\n",
      "  \u001b[90m[21216c6a] \u001b[39mPreferences v1.4.1\n",
      "\u001b[32m⌃\u001b[39m \u001b[90m[08abe8d2] \u001b[39mPrettyTables v2.3.0\n",
      "  \u001b[90m[3cdcf5f2] \u001b[39mRecipesBase v1.3.4\n",
      "  \u001b[90m[01d81517] \u001b[39mRecipesPipeline v0.6.12\n",
      "  \u001b[90m[189a3867] \u001b[39mReexport v1.2.2\n",
      "  \u001b[90m[05181044] \u001b[39mRelocatableFolders v1.0.1\n",
      "  \u001b[90m[ae029012] \u001b[39mRequires v1.3.0\n",
      "  \u001b[90m[6c6a2e73] \u001b[39mScratch v1.2.1\n",
      "  \u001b[90m[91c51154] \u001b[39mSentinelArrays v1.4.1\n",
      "  \u001b[90m[992d4aef] \u001b[39mShowoff v1.0.3\n",
      "  \u001b[90m[777ac1f9] \u001b[39mSimpleBufferStream v1.1.0\n",
      "  \u001b[90m[66db9d55] \u001b[39mSnoopPrecompile v1.0.3\n",
      "  \u001b[90m[a2af1166] \u001b[39mSortingAlgorithms v1.2.0\n",
      "  \u001b[90m[276daf66] \u001b[39mSpecialFunctions v2.3.1\n",
      "  \u001b[90m[1e83bf80] \u001b[39mStaticArraysCore v1.4.2\n",
      "  \u001b[90m[82ae8749] \u001b[39mStatsAPI v1.7.0\n",
      "  \u001b[90m[2913bbd2] \u001b[39mStatsBase v0.34.2\n",
      "  \u001b[90m[892a3eda] \u001b[39mStringManipulation v0.3.4\n",
      "  \u001b[90m[3783bdb8] \u001b[39mTableTraits v1.0.1\n",
      "  \u001b[90m[bd369af6] \u001b[39mTables v1.11.1\n",
      "  \u001b[90m[62fd8b95] \u001b[39mTensorCore v0.1.1\n",
      "  \u001b[90m[3bb67fe8] \u001b[39mTranscodingStreams v0.10.2\n",
      "  \u001b[90m[5c2747f8] \u001b[39mURIs v1.5.1\n",
      "  \u001b[90m[1cfade01] \u001b[39mUnicodeFun v0.4.1\n",
      "\u001b[32m⌃\u001b[39m \u001b[90m[1986cc42] \u001b[39mUnitful v1.18.0\n",
      "  \u001b[90m[45397f5d] \u001b[39mUnitfulLatexify v1.6.3\n",
      "  \u001b[90m[41fe7b60] \u001b[39mUnzip v0.2.0\n",
      "  \u001b[90m[6e34b625] \u001b[39mBzip2_jll v1.0.8+0\n",
      "  \u001b[90m[83423d85] \u001b[39mCairo_jll v1.16.1+1\n",
      "  \u001b[90m[2702e6a9] \u001b[39mEpollShim_jll v0.0.20230411+0\n",
      "  \u001b[90m[2e619515] \u001b[39mExpat_jll v2.5.0+0\n",
      "  \u001b[90m[b22a6f82] \u001b[39mFFMPEG_jll v4.4.4+1\n",
      "  \u001b[90m[a3f928ae] \u001b[39mFontconfig_jll v2.13.93+0\n",
      "  \u001b[90m[d7e528f0] \u001b[39mFreeType2_jll v2.13.1+0\n",
      "  \u001b[90m[559328eb] \u001b[39mFriBidi_jll v1.0.10+0\n",
      "  \u001b[90m[0656b61e] \u001b[39mGLFW_jll v3.3.8+0\n",
      "  \u001b[90m[d2c73de3] \u001b[39mGR_jll v0.72.10+0\n",
      "  \u001b[90m[78b55507] \u001b[39mGettext_jll v0.21.0+0\n",
      "  \u001b[90m[7746bdde] \u001b[39mGlib_jll v2.76.5+0\n",
      "  \u001b[90m[3b182d85] \u001b[39mGraphite2_jll v1.3.14+0\n",
      "  \u001b[90m[2e76f6c2] \u001b[39mHarfBuzz_jll v2.8.1+1\n",
      "  \u001b[90m[8fd58aa0] \u001b[39mHiGHS_jll v1.6.0+0\n",
      "  \u001b[90m[aacddb02] \u001b[39mJpegTurbo_jll v2.1.91+0\n",
      "  \u001b[90m[c1c5ebd0] \u001b[39mLAME_jll v3.100.1+0\n",
      "  \u001b[90m[88015f11] \u001b[39mLERC_jll v3.0.0+1\n",
      "  \u001b[90m[1d63c593] \u001b[39m"
     ]
    },
    {
     "name": "stdout",
     "output_type": "stream",
     "text": [
      "LLVMOpenMP_jll v15.0.4+0\n",
      "  \u001b[90m[dd4b983a] \u001b[39mLZO_jll v2.10.1+0\n",
      "\u001b[33m⌅\u001b[39m \u001b[90m[e9f186c6] \u001b[39mLibffi_jll v3.2.2+1\n",
      "  \u001b[90m[d4300ac3] \u001b[39mLibgcrypt_jll v1.8.7+0\n",
      "  \u001b[90m[7e76a0d4] \u001b[39mLibglvnd_jll v1.6.0+0\n",
      "  \u001b[90m[7add5ba3] \u001b[39mLibgpg_error_jll v1.42.0+0\n",
      "  \u001b[90m[94ce4f54] \u001b[39mLibiconv_jll v1.17.0+0\n",
      "  \u001b[90m[4b2f31a3] \u001b[39mLibmount_jll v2.35.0+0\n",
      "  \u001b[90m[89763e89] \u001b[39mLibtiff_jll v4.5.1+1\n",
      "  \u001b[90m[38a345b3] \u001b[39mLibuuid_jll v2.36.0+0\n",
      "  \u001b[90m[e7412a2a] \u001b[39mOgg_jll v1.3.5+1\n",
      "  \u001b[90m[458c3c95] \u001b[39mOpenSSL_jll v3.0.12+0\n",
      "  \u001b[90m[efe28fd5] \u001b[39mOpenSpecFun_jll v0.5.5+0\n",
      "  \u001b[90m[91d4177d] \u001b[39mOpus_jll v1.3.2+0\n",
      "  \u001b[90m[30392449] \u001b[39mPixman_jll v0.42.2+0\n",
      "  \u001b[90m[c0090381] \u001b[39mQt6Base_jll v6.5.3+1\n",
      "  \u001b[90m[a44049a8] \u001b[39mVulkan_Loader_jll v1.3.243+0\n",
      "  \u001b[90m[a2964d1f] \u001b[39mWayland_jll v1.21.0+1\n",
      "  \u001b[90m[2381bf8a] \u001b[39mWayland_protocols_jll v1.25.0+0\n",
      "\u001b[32m⌃\u001b[39m \u001b[90m[02c8fc9c] \u001b[39mXML2_jll v2.12.0+0\n",
      "  \u001b[90m[aed1982a] \u001b[39mXSLT_jll v1.1.34+0\n",
      "  \u001b[90m[ffd25f8a] \u001b[39mXZ_jll v5.4.5+0\n",
      "  \u001b[90m[f67eecfb] \u001b[39mXorg_libICE_jll v1.0.10+1\n",
      "  \u001b[90m[c834827a] \u001b[39mXorg_libSM_jll v1.2.3+0\n",
      "  \u001b[90m[4f6342f7] \u001b[39mXorg_libX11_jll v1.8.6+0\n",
      "  \u001b[90m[0c0b7dd1] \u001b[39mXorg_libXau_jll v1.0.11+0\n",
      "  \u001b[90m[935fb764] \u001b[39mXorg_libXcursor_jll v1.2.0+4\n",
      "  \u001b[90m[a3789734] \u001b[39mXorg_libXdmcp_jll v1.1.4+0\n",
      "  \u001b[90m[1082639a] \u001b[39mXorg_libXext_jll v1.3.4+4\n",
      "  \u001b[90m[d091e8ba] \u001b[39mXorg_libXfixes_jll v5.0.3+4\n",
      "  \u001b[90m[a51aa0fd] \u001b[39mXorg_libXi_jll v1.7.10+4\n",
      "  \u001b[90m[d1454406] \u001b[39mXorg_libXinerama_jll v1.1.4+4\n",
      "  \u001b[90m[ec84b674] \u001b[39mXorg_libXrandr_jll v1.5.2+4\n",
      "  \u001b[90m[ea2f1a96] \u001b[39mXorg_libXrender_jll v0.9.10+4\n",
      "  \u001b[90m[14d82f49] \u001b[39mXorg_libpthread_stubs_jll v0.1.1+0\n",
      "  \u001b[90m[c7cfdc94] \u001b[39mXorg_libxcb_jll v1.15.0+0\n",
      "  \u001b[90m[cc61e674] \u001b[39mXorg_libxkbfile_jll v1.1.2+0\n",
      "  \u001b[90m[e920d4aa] \u001b[39mXorg_xcb_util_cursor_jll v0.1.4+0\n",
      "  \u001b[90m[12413925] \u001b[39mXorg_xcb_util_image_jll v0.4.0+1\n",
      "  \u001b[90m[2def613f] \u001b[39mXorg_xcb_util_jll v0.4.0+1\n",
      "  \u001b[90m[975044d2] \u001b[39mXorg_xcb_util_keysyms_jll v0.4.0+1\n",
      "  \u001b[90m[0d47668e] \u001b[39mXorg_xcb_util_renderutil_jll v0.3.9+1\n",
      "  \u001b[90m[c22f9ab0] \u001b[39mXorg_xcb_util_wm_jll v0.4.1+1\n",
      "  \u001b[90m[35661453] \u001b[39mXorg_xkbcomp_jll v1.4.6+0\n",
      "  \u001b[90m[33bec58e] \u001b[39mXorg_xkeyboard_config_jll v2.39.0+0\n",
      "  \u001b[90m[c5fb5394] \u001b[39mXorg_xtrans_jll v1.5.0+0\n",
      "  \u001b[90m[3161d3a3] \u001b[39mZstd_jll v1.5.5+0\n",
      "  \u001b[90m[35ca27e7] \u001b[39meudev_jll v3.2.9+0\n",
      "\u001b[33m⌅\u001b[39m \u001b[90m[214eeab7] \u001b[39mfzf_jll v0.35.1+0\n",
      "  \u001b[90m[1a1c6b14] \u001b[39mgperf_jll v3.1.1+0\n",
      "  \u001b[90m[a4ae2306] \u001b[39mlibaom_jll v3.4.0+0\n",
      "  \u001b[90m[0ac62f75] \u001b[39mlibass_jll v0.15.1+0\n",
      "  \u001b[90m[2db6ffa8] \u001b[39mlibevdev_jll v1.11.0+0\n",
      "  \u001b[90m[f638f0a6] \u001b[39mlibfdk_aac_jll v2.0.2+0\n",
      "  \u001b[90m[36db933b] \u001b[39mlibinput_jll v1.18.0+0\n",
      "\u001b[32m⌃\u001b[39m \u001b[90m[b53b4c65] \u001b[39mlibpng_jll v1.6.38+0\n",
      "  \u001b[90m[f27f6e37] \u001b[39mlibvorbis_jll v1.3.7+1\n",
      "  \u001b[90m[009596ad] \u001b[39mmtdev_jll v1.1.6+0\n",
      "  \u001b[90m[1270edf5] \u001b[39mx264_jll v2021.5.5+0\n",
      "  \u001b[90m[dfaa095f] \u001b[39mx265_jll v3.5.0+0\n",
      "  \u001b[90m[d8fb68d0] \u001b[39mxkbcommon_jll v1.4.1+1\n",
      "  \u001b[90m[0dad84c5] \u001b[39mArgTools v1.1.1\n",
      "  \u001b[90m[56f22d72] \u001b[39mArtifacts\n",
      "  \u001b[90m[2a0f44e3] \u001b[39mBase64\n",
      "  \u001b[90m[ade2ca70] \u001b[39mDates\n",
      "  \u001b[90m[f43a241f] \u001b[39mDownloads v1.6.0\n",
      "  \u001b[90m[7b1f6079] \u001b[39mFileWatching\n",
      "  \u001b[90m[9fa8497b] \u001b[39mFuture\n",
      "  \u001b[90m[b77e0a4c] \u001b[39mInteractiveUtils\n",
      "  \u001b[90m[b27032c2] \u001b[39mLibCURL v0.6.4\n",
      "  \u001b[90m[76f85450] \u001b[39mLibGit2\n",
      "  \u001b[90m[8f399da3] \u001b[39mLibdl\n",
      "  \u001b[90m[37e2e46d] \u001b[39mLinearAlgebra\n",
      "  \u001b[90m[56ddb016] \u001b[39mLogging\n",
      "  \u001b[90m[d6f4376e] \u001b[39mMarkdown\n",
      "  \u001b[90m[a63ad114] \u001b[39mMmap\n",
      "  \u001b[90m[ca575930] \u001b[39mNetworkOptions v1.2.0\n",
      "  \u001b[90m[44cfe95a] \u001b[39mPkg v1.9.2\n",
      "  \u001b[90m[de0858da] \u001b[39mPrintf\n",
      "  \u001b[90m[9abbd945] \u001b[39mProfile\n",
      "  \u001b[90m[3fa0cd96] \u001b[39mREPL\n",
      "  \u001b[90m[9a3f8284] \u001b[39mRandom\n",
      "  \u001b[90m[ea8e919c] \u001b[39mSHA v0.7.0\n",
      "  \u001b[90m[9e88b42a] \u001b[39mSerialization\n",
      "  \u001b[90m[6462fe0b] \u001b[39mSockets\n",
      "  \u001b[90m[2f01184e] \u001b[39mSparseArrays\n",
      "  \u001b[90m[10745b16] \u001b[39mStatistics v1.9.0\n",
      "  \u001b[90m[fa267f1f] \u001b[39mTOML v1.0.3\n",
      "  \u001b[90m[a4e569a6] \u001b[39mTar v1.10.0\n",
      "  \u001b[90m[8dfed614] \u001b[39mTest\n",
      "  \u001b[90m[cf7118a7] \u001b[39mUUIDs\n",
      "  \u001b[90m[4ec0a83e] \u001b[39mUnicode\n",
      "  \u001b[90m[e66e0078] \u001b[39mCompilerSupportLibraries_jll v1.0.5+0\n",
      "  \u001b[90m[deac9b47] \u001b[39mLibCURL_jll v8.4.0+0\n",
      "  \u001b[90m[29816b5a] \u001b[39mLibSSH2_jll v1.11.0+1\n",
      "  \u001b[90m[c8ffd9c3] \u001b[39mMbedTLS_jll v2.28.2+0\n",
      "  \u001b[90m[14a3606d] \u001b[39mMozillaCACerts_jll v2022.10.11\n",
      "  \u001b[90m[4536629a] \u001b[39mOpenBLAS_jll v0.3.21+4\n",
      "  \u001b[90m[05823500] \u001b[39mOpenLibm_jll v0.8.1+0\n",
      "  \u001b[90m[efcefdf7] \u001b[39mPCRE2_jll v10.42.0+0\n",
      "  \u001b[90m[bea87d4a] \u001b[39mSuiteSparse_jll v5.10.1+6\n",
      "  \u001b[90m[83775a58] \u001b[39mZlib_jll v1.2.13+0\n",
      "  \u001b[90m[8e850b90] \u001b[39mlibblastrampoline_jll v5.8.0+0\n",
      "  \u001b[90m[8e850ede] \u001b[39mnghttp2_jll v1.52.0+1\n",
      "  \u001b[90m[3f19e933] \u001b[39mp7zip_jll v17.4.0+0\n",
      "\u001b[36m\u001b[1mInfo\u001b[22m\u001b[39m Packages marked with \u001b[32m⌃\u001b[39m and \u001b[33m⌅\u001b[39m have new versions available. Those with \u001b[32m⌃\u001b[39m may be upgradable, but those with \u001b[33m⌅\u001b[39m are restricted by compatibility constraints from upgrading. To see why use `status --outdated`"
     ]
    },
    {
     "name": "stdout",
     "output_type": "stream",
     "text": [
      "\n"
     ]
    },
    {
     "name": "stderr",
     "output_type": "stream",
     "text": [
      "\u001b[32m\u001b[1m    Updating\u001b[22m\u001b[39m registry at `C:\\Users\\Leonie Hergeth\\.julia\\registries\\General.toml`\n"
     ]
    },
    {
     "name": "stderr",
     "output_type": "stream",
     "text": [
      "\u001b[32m\u001b[1m   Resolving\u001b[22m\u001b[39m package versions..."
     ]
    },
    {
     "name": "stderr",
     "output_type": "stream",
     "text": [
      "\n",
      "\u001b[32m\u001b[1m  No Changes\u001b[22m\u001b[39m to `C:\\Users\\Leonie Hergeth\\Documents\\GitHub\\AMO_2023\\LHe\\Project.toml`\n"
     ]
    },
    {
     "name": "stderr",
     "output_type": "stream",
     "text": [
      "\u001b[32m\u001b[1m  No Changes\u001b[22m\u001b[39m to `C:\\Users\\Leonie Hergeth\\Documents\\GitHub\\AMO_2023\\LHe\\Manifest.toml`\n"
     ]
    },
    {
     "name": "stderr",
     "output_type": "stream",
     "text": [
      "\u001b[32m\u001b[1m   Resolving\u001b[22m\u001b[39m package versions..."
     ]
    },
    {
     "name": "stderr",
     "output_type": "stream",
     "text": [
      "\n",
      "\u001b[32m\u001b[1m  No Changes\u001b[22m\u001b[39m to `C:\\Users\\Leonie Hergeth\\Documents\\GitHub\\AMO_2023\\LHe\\Project.toml`\n"
     ]
    },
    {
     "name": "stderr",
     "output_type": "stream",
     "text": [
      "\u001b[32m\u001b[1m  No Changes\u001b[22m\u001b[39m to `C:\\Users\\Leonie Hergeth\\Documents\\GitHub\\AMO_2023\\LHe\\Manifest.toml`\n"
     ]
    },
    {
     "name": "stderr",
     "output_type": "stream",
     "text": [
      "\u001b[32m\u001b[1m   Resolving\u001b[22m\u001b[39m package versions..."
     ]
    },
    {
     "name": "stderr",
     "output_type": "stream",
     "text": [
      "\n",
      "\u001b[32m\u001b[1m  No Changes\u001b[22m\u001b[39m to `C:\\Users\\Leonie Hergeth\\Documents\\GitHub\\AMO_2023\\LHe\\Project.toml`\n"
     ]
    },
    {
     "name": "stderr",
     "output_type": "stream",
     "text": [
      "\u001b[32m\u001b[1m  No Changes\u001b[22m\u001b[39m to `C:\\Users\\Leonie Hergeth\\Documents\\GitHub\\AMO_2023\\LHe\\Manifest.toml`\n"
     ]
    },
    {
     "name": "stderr",
     "output_type": "stream",
     "text": [
      "\u001b[32m\u001b[1m   Resolving\u001b[22m\u001b[39m package versions..."
     ]
    },
    {
     "name": "stderr",
     "output_type": "stream",
     "text": [
      "\n",
      "\u001b[32m\u001b[1m  No Changes\u001b[22m\u001b[39m to `C:\\Users\\Leonie Hergeth\\Documents\\GitHub\\AMO_2023\\LHe\\Project.toml`\n"
     ]
    },
    {
     "name": "stderr",
     "output_type": "stream",
     "text": [
      "\u001b[32m\u001b[1m  No Changes\u001b[22m\u001b[39m to `C:\\Users\\Leonie Hergeth\\Documents\\GitHub\\AMO_2023\\LHe\\Manifest.toml`\n"
     ]
    },
    {
     "name": "stderr",
     "output_type": "stream",
     "text": [
      "\u001b[32m\u001b[1m   Resolving\u001b[22m\u001b[39m package versions..."
     ]
    },
    {
     "name": "stderr",
     "output_type": "stream",
     "text": [
      "\n",
      "\u001b[32m\u001b[1m  No Changes\u001b[22m\u001b[39m to `C:\\Users\\Leonie Hergeth\\Documents\\GitHub\\AMO_2023\\LHe\\Project.toml`"
     ]
    },
    {
     "name": "stderr",
     "output_type": "stream",
     "text": [
      "\n",
      "\u001b[32m\u001b[1m  No Changes\u001b[22m\u001b[39m to `C:\\Users\\Leonie Hergeth\\Documents\\GitHub\\AMO_2023\\LHe\\Manifest.toml`\n"
     ]
    },
    {
     "name": "stderr",
     "output_type": "stream",
     "text": [
      "\u001b[32m\u001b[1m   Resolving\u001b[22m\u001b[39m package versions...\n"
     ]
    },
    {
     "name": "stderr",
     "output_type": "stream",
     "text": [
      "\u001b[32m\u001b[1m  No Changes\u001b[22m\u001b[39m to `C:\\Users\\Leonie Hergeth\\Documents\\GitHub\\AMO_2023\\LHe\\Project.toml`\n"
     ]
    },
    {
     "name": "stderr",
     "output_type": "stream",
     "text": [
      "\u001b[32m\u001b[1m  No Changes\u001b[22m\u001b[39m to `C:\\Users\\Leonie Hergeth\\Documents\\GitHub\\AMO_2023\\LHe\\Manifest.toml`\n"
     ]
    }
   ],
   "source": [
    "using Pkg; # The 'Pkg' package is used to install and load other packages\n",
    "Pkg.activate(\".\"); Pkg.instantiate(); # The AMO environment is activated and instantiated\n",
    "\n",
    "Pkg.status()\n",
    "\n",
    "Pkg.add(\"DataStructures\")\n",
    "Pkg.add(\"DataFrames\")\n",
    "Pkg.add(\"IterTools\")\n",
    "Pkg.add(\"Plots\")\n",
    "Pkg.add(\"JuMP\")\n",
    "Pkg.add(\"HiGHS\")"
   ]
  },
  {
   "cell_type": "code",
   "execution_count": 2,
   "metadata": {},
   "outputs": [],
   "source": [
    "using DataStructures # for SortedDict\n",
    "using DataFrames\n",
    "using IterTools # for product()\n",
    "using Plots # for plotting, import and first plot might take a while due to compilation\n",
    "using JuMP, HiGHS"
   ]
  },
  {
   "cell_type": "markdown",
   "metadata": {},
   "source": [
    "Modell definition:\n",
    "Starting with the indices of the periods (T) and the scenarios (S) the model is defined. Also a range starting with period 0 is defined to include initial values in the model. The data can be found in the book (Morales, J.M., Conejo, A.J., Madsen, H., Pinson, P. and Zugno, M., 2013. Integrating renewables in electricity markets: operational problems (Vol. 205). Springer Science & Business Media., Chapter 8)."
   ]
  },
  {
   "cell_type": "code",
   "execution_count": 3,
   "metadata": {},
   "outputs": [
    {
     "data": {
      "text/plain": [
       "0.8"
      ]
     },
     "metadata": {},
     "output_type": "display_data"
    }
   ],
   "source": [
    "model = Model(HiGHS.Optimizer)\n",
    "\n",
    "#sets\n",
    "T = [1,2,3] #periods: 3 *t\n",
    "T_init = [0,1,2,3] #periods with inital value\n",
    "S = [1,2,3] #scenarios: 3 *w\n",
    "\n",
    "#data\n",
    "\n",
    "lambda = [20, 80, 45] #price in each period *Price\n",
    "g_coeff = [5, 10, 50] #coefficents of cost function *ag,bg,cg\n",
    "l_coeff = [-30, 150, 5] #coefficents of cost function *al,bl,cl\n",
    "prob = [0.2, 0.3, 0.5] #probability of each scenario *pi\n",
    "\n",
    "pv_output = [[2.5, 4.0, 6.0], [6.0, 4.0, 3.5], [2.0, 1.1, 1.5]]\n",
    "\n",
    "pg = Dict(:max => 5, :min => 1, :ramp => 2, :init => 2) #GT max, min,ramp and initial *PGmax,PGmin,PGramp,PG0\n",
    "pl = Dict(:max => 2, :min => 0.5, :ramp => 1, :init => 1.5) #Gear factory max, min,ramp and initial *PLmax,PLmin,PLramp,PL0\n",
    "v_init = 1 # initial status -> to binary if loaded *v0\n",
    "su = 10 #startup cost *SU\n",
    "el_min = 2.5 #minimum energy consumption *MinCon\n",
    "es = Dict(:max => 1, :min => 0.2, :init => 0.4) #PSP equivalent energy capacity, minimum storage level, initial storage level *ESmax, min, 0\n",
    "ps_max = Dict(:charging => 0.3, :discharging => 0.5) #PSP charging power limit, discharging power limit *PScmax, PSdmax\n",
    "eff = 0.8 #PSP efficiency *eff"
   ]
  },
  {
   "cell_type": "markdown",
   "metadata": {},
   "source": [
    "Now all variables are included in the model. The sold energy can also be negative if it is bought from the market. All other float variables must be positive values. Additionally some are limited by minimum and maximum values. The variable V is a binary variable as it is linked to the status of the GT unit which can be either on or off.\n",
    "\n",
    "With the commented code it was tried to relax the model to find a solution for the quadratic problem. Instead the objective function was relaxed by only including linear terms."
   ]
  },
  {
   "cell_type": "code",
   "execution_count": 4,
   "metadata": {},
   "outputs": [
    {
     "data": {
      "text/plain": [
       "2-dimensional DenseAxisArray{VariableRef,2,...} with index sets:\n",
       "    Dimension 1, [1, 2, 3]\n",
       "    Dimension 2, [0, 1, 2, 3]\n",
       "And data, a 3×4 Matrix{VariableRef}:\n",
       " V[1,0]  V[1,1]  V[1,2]  V[1,3]\n",
       " V[2,0]  V[2,1]  V[2,2]  V[2,3]\n",
       " V[3,0]  V[3,1]  V[3,2]  V[3,3]"
      ]
     },
     "metadata": {},
     "output_type": "display_data"
    }
   ],
   "source": [
    "#variables\n",
    "@variable(model, P[T]) #Energy sold in (>0) or bought from (<0) the market\n",
    "\n",
    "@variable(model, CSU[S,T] >=0) #GT start-up cost #IV\n",
    "@variable(model, PG[S,T_init] >= 0) #GT power output\n",
    "@variable(model, EG[S,T] >= 0) #GT energy production\n",
    "\n",
    "@variable(model, pl[:min] <= PL[S,T_init] <= pl[:max]) #Gear factory load consumption #IX\n",
    "@variable(model, EL[S,T] >= 0) #Gear factory energy consumption\n",
    "\n",
    "@variable(model, es[:min] <= ES[S,T_init] <= es[:max]) #PSP storage level #XV\n",
    "@variable(model, 0 <= PSc[S,T] <= ps_max[:charging]) #PSP power charge #XVI\n",
    "@variable(model, 0 <= PSd[S,T] <= ps_max[:discharging]) #PSP power charge #XVII\n",
    "\n",
    "@variable(model, 0 <= Pcurt[S,T]) #PV generation curtailment #XVIII\n",
    "\n",
    "@variable(model, V[S,T_init], Bin) #On-off status of the GT unit #VIII\n",
    "#@variable(model, V[S,T_init] >= 0) #On-off status of the GT unit #VIII 'Relaxierung wegen MIQP\n"
   ]
  },
  {
   "cell_type": "markdown",
   "metadata": {},
   "source": [
    "All constraints are added. The numbers/letters refer to the number of the equation in the book. The romanian numbers are from my own writing.\n",
    "\n",
    "Contraint d, h, i, o, p and q are included in the variable definition."
   ]
  },
  {
   "cell_type": "code",
   "execution_count": 9,
   "metadata": {},
   "outputs": [
    {
     "data": {
      "text/plain": [
       "2-dimensional DenseAxisArray{ConstraintRef{Model, MathOptInterface.ConstraintIndex{MathOptInterface.ScalarAffineFunction{Float64}, MathOptInterface.LessThan{Float64}}, ScalarShape},2,...} with index sets:\n",
       "    Dimension 1, [1, 2, 3]\n",
       "    Dimension 2, [1, 2, 3]\n",
       "And data, a 3×3 Matrix{ConstraintRef{Model, MathOptInterface.ConstraintIndex{MathOptInterface.ScalarAffineFunction{Float64}, MathOptInterface.LessThan{Float64}}, ScalarShape}}:\n",
       " Pcurt[1,1] <= 2.5  Pcurt[1,2] <= 4    Pcurt[1,3] <= 6\n",
       " Pcurt[2,1] <= 6    Pcurt[2,2] <= 4    Pcurt[2,3] <= 3.5\n",
       " Pcurt[3,1] <= 2    Pcurt[3,2] <= 1.1  Pcurt[3,3] <= 1.5"
      ]
     },
     "metadata": {},
     "output_type": "display_data"
    }
   ],
   "source": [
    "@constraint(model, [s in S], PG[s,0] == pg[:init]) #XIX \n",
    "@constraint(model, [s in S], PL[s,0] == pl[:init]) #XXI\n",
    "@constraint(model, [s in S], ES[s,0] == es[:init]) #XXII\n",
    "@constraint(model, [s in S], V[s,0] == v_init) #XX\n",
    "\n",
    "\n",
    "\n",
    "@constraint(model, [s in S, t in T], EG[s,t] + pv_output[s][t] - Pcurt[s,t] + PSd[s,t] == EL[s,t] + PSc[s,t] + P[t]) #I (a)\n",
    "@constraint(model, [s in S, t in T], pg[:min] * V[s,t] <= PG[s,t]) #II (b)\n",
    "@constraint(model, [s in S, t in T], PG[s,t] <= pg[:max] * V[s,t]) #II (c)\n",
    "@constraint(model, [s in S, t in T], CSU[s,t] >= su * (V[s,t] - V[s,t-1])) #III (c)\n",
    "@constraint(model, [s in S, t in T], PG[s,t] - PG[s,t-1] <= pg[:ramp]) #V (e)\n",
    "@constraint(model, [s in S, t in T], PG[s,t-1] - PG[s,t] <= pg[:ramp]) #VI (f)\n",
    "@constraint(model, [s in S, t in T], EG[t,s] == (PG[s,t-1] + PG[s,t])/2) #VII (g)\n",
    "@constraint(model, [s in S, t in T], PL[s,t] - PL[s,t-1] <= pl[:ramp]) #X (j)\n",
    "@constraint(model, [s in S, t in T], PL[s,t-1] - PL[s,t] <= pl[:ramp]) #XI (k)\n",
    "@constraint(model, [s in S, t in T], EL[s,t] == (PL[s,t-1] + PL[s,t])/2) #XII (l)\n",
    "@constraint(model, [s in S], sum(EL[s,t] for t in T) >= el_min) #XIII (m)\n",
    "@constraint(model, [s in S, t in T], ES[s,t] == ES[s,t-1] + eff * PSc[s,t] - (1/eff) * PSd[s,t]) #XIV (n)\n",
    "@constraint(model, [s in S, t in T], Pcurt[s,t] <= pv_output[s][t]) #XVIII (r)\n"
   ]
  },
  {
   "cell_type": "markdown",
   "metadata": {},
   "source": [
    "The objective function is given by formula 8.36 in the book and is also included. The commented code is the original function. It was changed to enforce a linear function in the model.\n",
    "\n",
    "The whole model is not printed as it needs a lot of space. Only the objective function is directly visible."
   ]
  },
  {
   "cell_type": "code",
   "execution_count": 6,
   "metadata": {},
   "outputs": [
    {
     "data": {
      "text/latex": [
       "$ 20 P_{1} + 80 P_{2} + 45 P_{3} + 24 EL_{1,1} + 24 EL_{1,2} + 24 EL_{1,3} - 3 EG_{1,1} - 10 V_{1,1} - 0.2 CSU_{1,1} - 3 EG_{1,2} - 10 V_{1,2} - 0.2 CSU_{1,2} - 3 EG_{1,3} - 10 V_{1,3} - 0.2 CSU_{1,3} + 36 EL_{2,1} + 36 EL_{2,2} + 36 EL_{2,3} - 4.5 EG_{2,1} - 15 V_{2,1} - 0.3 CSU_{2,1} - 4.5 EG_{2,2} - 15 V_{2,2} - 0.3 CSU_{2,2} - 4.5 EG_{2,3} - 15 V_{2,3} - 0.3 CSU_{2,3} + 60 EL_{3,1} + 60 EL_{3,2} + 60 EL_{3,3} - 7.5 EG_{3,1} - 25 V_{3,1} - 0.5 CSU_{3,1} - 7.5 EG_{3,2} - 25 V_{3,2} - 0.5 CSU_{3,2} - 7.5 EG_{3,3} - 25 V_{3,3} - 0.5 CSU_{3,3} + 15 $"
      ],
      "text/plain": [
       "20 P[1] + 80 P[2] + 45 P[3] + 24 EL[1,1] + 24 EL[1,2] + 24 EL[1,3] - 3 EG[1,1] - 10 V[1,1] - 0.2 CSU[1,1] - 3 EG[1,2] - 10 V[1,2] - 0.2 CSU[1,2] - 3 EG[1,3] - 10 V[1,3] - 0.2 CSU[1,3] + 36 EL[2,1] + 36 EL[2,2] + 36 EL[2,3] - 4.5 EG[2,1] - 15 V[2,1] - 0.3 CSU[2,1] - 4.5 EG[2,2] - 15 V[2,2] - 0.3 CSU[2,2] - 4.5 EG[2,3] - 15 V[2,3] - 0.3 CSU[2,3] + 60 EL[3,1] + 60 EL[3,2] + 60 EL[3,3] - 7.5 EG[3,1] - 25 V[3,1] - 0.5 CSU[3,1] - 7.5 EG[3,2] - 25 V[3,2] - 0.5 CSU[3,2] - 7.5 EG[3,3] - 25 V[3,3] - 0.5 CSU[3,3] + 15"
      ]
     },
     "metadata": {},
     "output_type": "display_data"
    }
   ],
   "source": [
    "#    @objective(model, Max, \n",
    "#    sum(lambda[t]*P[t] for t in T) + \n",
    "#    sum(prob[s]*(sum(l_coeff[1] * EL[s,t] *EL[s,t] + l_coeff[2] * EL[s,t] + l_coeff[3] for t in T) -\n",
    "#    sum( g_coeff[1] * EG[s,t] * EG[s,t] + g_coeff[2] * EG[s,t] + g_coeff[3] * V[s,t] +CSU[s,t] for t in T)) for s in S) \n",
    "#    )\n",
    "\n",
    "    @objective(model, Max, \n",
    "    sum(lambda[t]*P[t] for t in T) + \n",
    "    sum(prob[s]*(sum(l_coeff[1] * EL[s,t] + l_coeff[2] * EL[s,t] + l_coeff[3] for t in T) -\n",
    "    sum( g_coeff[1] * EG[s,t] + g_coeff[2] * EG[s,t] + g_coeff[3] * V[s,t] +CSU[s,t] for t in T)) for s in S) \n",
    "    )\n",
    "\n",
    "    #print(model)"
   ]
  },
  {
   "cell_type": "code",
   "execution_count": 7,
   "metadata": {},
   "outputs": [
    {
     "name": "stdout",
     "output_type": "stream",
     "text": [
      "Running HiGHS 1.6.0: Copyright (c) 2023 HiGHS under MIT licence terms\n",
      "Presolving model\n",
      "81 rows, 84 cols, 234 nonzeros\n",
      "57 rows, 72 cols, 186 nonzeros\n",
      "56 rows, 71 cols, 194 nonzeros\n",
      "\n",
      "Solving MIP model with:\n",
      "   56 rows\n",
      "   71 cols (9 binary, 0 integer, 6 implied int., 56 continuous)\n",
      "   194 nonzeros\n",
      "\n",
      "        Nodes      |    B&B Tree     |            Objective Bounds              |  Dynamic Constraints |       Work      \n",
      "     Proc. InQueue |  Leaves   Expl. | BestBound       BestSol              Gap |   Cuts   InLp Confl. | LpIters     Time\n",
      "\n",
      "         0       0         0   0.00%   1739.265        -inf                 inf        0      0      0         0     0.0s\n",
      " R       0       0         0   0.00%   1035.216        979.16             5.72%        0      0      0        33     0.0s\n",
      "\n",
      "33.3% inactive integer columns, restarting\n",
      "Model after restart has 44 rows, 62 cols (6 bin., 0 int., 3 impl., 53 cont.), and 181 nonzeros\n",
      "\n",
      "         0       0         0   0.00%   1035.216        979.16             5.72%        0      0      0        33     0.0s\n",
      "         0       0         0   0.00%   1035.216        979.16             5.72%        0      0      0        33     0.0s\n",
      " C       0       0         0   0.00%   1025.366        1016.16            0.91%       21      3      0        36     0.0s\n",
      "\n",
      "Solving report\n",
      "  Status            Optimal\n",
      "  Primal bound      1016.16\n",
      "  Dual bound        1016.16\n",
      "  Gap               0% (tolerance: 0.01%)\n",
      "  Solution status   feasible\n",
      "                    1016.16 (objective)\n",
      "                    0 (bound viol.)\n",
      "                    0 (int. viol.)\n",
      "                    0 (row viol.)\n",
      "  Timing            0.03 (total)\n",
      "                    0.00 (presolve)\n",
      "                    0.00 (postsolve)\n",
      "  Nodes             1\n",
      "  LP iterations     71 (total)\n",
      "                    0 (strong br.)\n",
      "                    8 (separation)\n",
      "                    30 (heuristics)\n"
     ]
    }
   ],
   "source": [
    "optimize!(model)"
   ]
  },
  {
   "cell_type": "markdown",
   "metadata": {},
   "source": [
    "The model is solved and the objective value and the sold energy are printed."
   ]
  },
  {
   "cell_type": "code",
   "execution_count": 8,
   "metadata": {},
   "outputs": [
    {
     "name": "stdout",
     "output_type": "stream",
     "text": [
      "The total profit is 1016.16"
     ]
    },
    {
     "name": "stdout",
     "output_type": "stream",
     "text": [
      "\n",
      "The sold energy in period 1 is: 0.95\n",
      "The sold energy in period 2 is: 4.852\n",
      "The sold energy in period 3 is: 4.8999999999999995\n"
     ]
    }
   ],
   "source": [
    "println(\"The total profit is \",objective_value(model)) \n",
    "println(\"The sold energy in period 1 is: \", value.(P)[1])\n",
    "println(\"The sold energy in period 2 is: \", value.(P)[2])\n",
    "println(\"The sold energy in period 3 is: \", value.(P)[3])"
   ]
  }
 ],
 "metadata": {
  "kernelspec": {
   "display_name": "Julia 1.9.4",
   "language": "julia",
   "name": "julia-1.9"
  },
  "language_info": {
   "file_extension": ".jl",
   "mimetype": "application/julia",
   "name": "julia",
   "version": "1.9.4"
  }
 },
 "nbformat": 4,
 "nbformat_minor": 4
}
